{
 "cells": [
  {
   "cell_type": "code",
   "execution_count": 72,
   "id": "cutting-feature",
   "metadata": {},
   "outputs": [],
   "source": [
    "csvpath = (r'C:\\Users\\johnf\\OneDrive\\Documents\\GitHub\\uw-fintech-spring-21\\Homework\\02-Python\\Instructions\\PyBank\\Resources\\budget_data.csv')"
   ]
  },
  {
   "cell_type": "code",
   "execution_count": 73,
   "id": "breeding-clone",
   "metadata": {},
   "outputs": [],
   "source": [
    "from pathlib import Path"
   ]
  },
  {
   "cell_type": "code",
   "execution_count": 74,
   "id": "starting-client",
   "metadata": {},
   "outputs": [],
   "source": [
    "import csv\n",
    "import os"
   ]
  },
  {
   "cell_type": "code",
   "execution_count": 119,
   "id": "prospective-terror",
   "metadata": {},
   "outputs": [],
   "source": [
    "analysis = {}"
   ]
  },
  {
   "cell_type": "code",
   "execution_count": 76,
   "id": "atmospheric-method",
   "metadata": {},
   "outputs": [],
   "source": [
    "csvpath = Path(\"..\\Resources\\budget_data.csv\")"
   ]
  },
  {
   "cell_type": "code",
   "execution_count": 98,
   "id": "contained-wesley",
   "metadata": {},
   "outputs": [],
   "source": [
    "with open(csvpath,\"r\") as csvfile:\n",
    "    csvreader = csv.reader(csvfile, delimiter=\",\")\n",
    "    header = next(csvreader)\n",
    "    line_num +=1"
   ]
  },
  {
   "cell_type": "code",
   "execution_count": 84,
   "id": "underlying-reform",
   "metadata": {},
   "outputs": [],
   "source": [
    "csvpath = os.path.join(r\"C:\\Users\\johnf\\OneDrive\\Documents\\GitHub\\uw-fintech-spring-21\\Homework\\02-Python\\Instructions\\PyBank\\Resources\\budget_data.csv\")"
   ]
  },
  {
   "cell_type": "code",
   "execution_count": 31,
   "id": "vocal-information",
   "metadata": {},
   "outputs": [],
   "source": [
    "Profit/Losses = []"
   ]
  },
  {
   "cell_type": "code",
   "execution_count": 99,
   "id": "adverse-martial",
   "metadata": {},
   "outputs": [
    {
     "name": "stdout",
     "output_type": "stream",
     "text": [
      "86\n"
     ]
    }
   ],
   "source": [
    "num_rows = -1\n",
    "\n",
    "for row in open(r\"C:\\Users\\johnf\\OneDrive\\Documents\\GitHub\\uw-fintech-spring-21\\Homework\\02-Python\\Instructions\\PyBank\\Resources\\budget_data.csv\"):\n",
    "    num_rows += 1\n",
    "\n",
    "print(num_rows)"
   ]
  },
  {
   "cell_type": "code",
   "execution_count": 27,
   "id": "spatial-jones",
   "metadata": {},
   "outputs": [],
   "source": [
    "Profit/Losses = []\n",
    "line_num = 0"
   ]
  },
  {
   "cell_type": "code",
   "execution_count": 123,
   "id": "talented-booth",
   "metadata": {},
   "outputs": [
    {
     "name": "stdout",
     "output_type": "stream",
     "text": [
      "        Date  Profit/Losses\n",
      "0   Jan-2010         867884\n",
      "1   Feb-2010         984655\n",
      "2   Mar-2010         322013\n",
      "3   Apr-2010         -69417\n",
      "4   May-2010         310503\n",
      "..       ...            ...\n",
      "81  Oct-2016         102685\n",
      "82  Nov-2016         795914\n",
      "83  Dec-2016          60988\n",
      "84  Jan-2017         138230\n",
      "85  Feb-2017         671099\n",
      "\n",
      "[86 rows x 2 columns]\n"
     ]
    }
   ],
   "source": [
    "import pandas as pd\n",
    "df = pd.read_csv (r\"C:\\Users\\johnf\\OneDrive\\Documents\\GitHub\\uw-fintech-spring-21\\Homework\\02-Python\\Instructions\\PyBank\\Resources\\budget_data.csv\")\n",
    "print (df)"
   ]
  },
  {
   "cell_type": "code",
   "execution_count": 128,
   "id": "appointed-baptist",
   "metadata": {},
   "outputs": [],
   "source": [
    "count1 = df['Profit/Losses'].count()\n",
    "sum1 = df['Profit/Losses'].sum()\n",
    "mean1 = df['Profit/Losses'].mean()\n",
    "max1 = df['Profit/Losses'].max()\n",
    "min1 = df['Profit/Losses'].min()"
   ]
  },
  {
   "cell_type": "code",
   "execution_count": 152,
   "id": "empirical-queens",
   "metadata": {},
   "outputs": [
    {
     "name": "stdout",
     "output_type": "stream",
     "text": [
      "Total Months: 86\n",
      "Total: $38382578\n",
      "Average Change: $446309.0465116279\n",
      "Greatest Increase in Profits: Feb-2012 $1170593\n",
      "Greatest Decrease in Prfoits: Sep-2013 $-1196225\n"
     ]
    }
   ],
   "source": [
    "print(f\"Total Months: {count1}\")\n",
    "print(f\"Total: ${sum1}\")\n",
    "print(f\"Average Change: ${mean1}\")\n",
    "print(f\"Greatest Increase in Profits: Feb-2012 ${max1}\")\n",
    "print(f\"Greatest Decrease in Prfoits: Sep-2013 ${min1}\")"
   ]
  },
  {
   "cell_type": "code",
   "execution_count": null,
   "id": "primary-kansas",
   "metadata": {},
   "outputs": [],
   "source": []
  }
 ],
 "metadata": {
  "kernelspec": {
   "display_name": "Python 3",
   "language": "python",
   "name": "python3"
  },
  "language_info": {
   "codemirror_mode": {
    "name": "ipython",
    "version": 3
   },
   "file_extension": ".py",
   "mimetype": "text/x-python",
   "name": "python",
   "nbconvert_exporter": "python",
   "pygments_lexer": "ipython3",
   "version": "3.8.5"
  }
 },
 "nbformat": 4,
 "nbformat_minor": 5
}
